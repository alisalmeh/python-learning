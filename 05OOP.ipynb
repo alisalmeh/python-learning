{
 "cells": [
  {
   "cell_type": "markdown",
   "id": "edeb11f1",
   "metadata": {},
   "source": [
    "## OOP"
   ]
  },
  {
   "cell_type": "code",
   "execution_count": 16,
   "id": "ad76e8ff",
   "metadata": {},
   "outputs": [],
   "source": [
    "class ClassName():\n",
    "    def __init__(self, param1):\n",
    "        self.param1 = param1        # attribute\n",
    "        print(\"Object Created\")\n",
    "\n",
    "    def say_hello(self):        # method\n",
    "        print(\"hello\")"
   ]
  },
  {
   "cell_type": "code",
   "execution_count": 17,
   "id": "6384dc27",
   "metadata": {},
   "outputs": [
    {
     "name": "stdout",
     "output_type": "stream",
     "text": [
      "Object Created\n"
     ]
    }
   ],
   "source": [
    "t = ClassName(5)        # create an instance"
   ]
  },
  {
   "cell_type": "code",
   "execution_count": 21,
   "id": "d7a8f89d",
   "metadata": {},
   "outputs": [
    {
     "data": {
      "text/plain": [
       "__main__.ClassName"
      ]
     },
     "execution_count": 21,
     "metadata": {},
     "output_type": "execute_result"
    }
   ],
   "source": [
    "type(t)"
   ]
  },
  {
   "cell_type": "code",
   "execution_count": null,
   "id": "3a00fcec",
   "metadata": {},
   "outputs": [
    {
     "data": {
      "text/plain": [
       "5"
      ]
     },
     "execution_count": 19,
     "metadata": {},
     "output_type": "execute_result"
    }
   ],
   "source": [
    "# attribute\n",
    "t.param1"
   ]
  },
  {
   "cell_type": "code",
   "execution_count": 20,
   "id": "052a5118",
   "metadata": {},
   "outputs": [
    {
     "name": "stdout",
     "output_type": "stream",
     "text": [
      "hello\n"
     ]
    }
   ],
   "source": [
    "# method\n",
    "t.say_hello()"
   ]
  },
  {
   "cell_type": "markdown",
   "id": "ebd242e0",
   "metadata": {},
   "source": [
    "- We have added a new class, or object in python in the code below."
   ]
  },
  {
   "cell_type": "code",
   "execution_count": 6,
   "id": "7afc9c74",
   "metadata": {},
   "outputs": [],
   "source": [
    "class Book():\n",
    "    book_type = 'horror'\n",
    "\n",
    "    def __init__(self, page):\n",
    "        self.pages = page\n",
    "\n",
    "    def open(self):\n",
    "        print(f\"Opened the book on last page {self.pages}\")"
   ]
  },
  {
   "cell_type": "code",
   "execution_count": 3,
   "id": "8ef86e42",
   "metadata": {},
   "outputs": [
    {
     "name": "stdout",
     "output_type": "stream",
     "text": [
      "<__main__.Book object at 0x000001ADB9481460>\n",
      "526\n"
     ]
    }
   ],
   "source": [
    "mybook = Book(526)\n",
    "print(mybook)\n",
    "print(mybook.pages)"
   ]
  },
  {
   "cell_type": "code",
   "execution_count": null,
   "id": "14ccedc6",
   "metadata": {},
   "outputs": [
    {
     "name": "stdout",
     "output_type": "stream",
     "text": [
      "230\n"
     ]
    }
   ],
   "source": [
    "your_book = Book(230)\n",
    "print(your_book.pages)"
   ]
  },
  {
   "cell_type": "code",
   "execution_count": null,
   "id": "d051baed",
   "metadata": {},
   "outputs": [
    {
     "name": "stdout",
     "output_type": "stream",
     "text": [
      "Opened the book on last page 526\n"
     ]
    }
   ],
   "source": [
    "mybook.open()"
   ]
  },
  {
   "cell_type": "code",
   "execution_count": 21,
   "id": "bb57b016",
   "metadata": {},
   "outputs": [
    {
     "name": "stdout",
     "output_type": "stream",
     "text": [
      "100\n",
      "Opened the book on last page 100\n",
      "b1 book type is: horror\n",
      "b2 book type is: horror\n",
      "b1 book type after the change is: fun\n"
     ]
    }
   ],
   "source": [
    "b1 = Book(100)\n",
    "print(b1.pages)\n",
    "b1.open()\n",
    "print(f\"b1 book type is: {b1.book_type}\")\n",
    "\n",
    "b2 = Book(50)\n",
    "print(f\"b2 book type is: {b2.book_type}\")\n",
    "\n",
    "b1.book_type = 'fun'\n",
    "print(f\"b1 book type after the change is: {b1.book_type}\")"
   ]
  },
  {
   "cell_type": "code",
   "execution_count": 23,
   "id": "332bc0d5",
   "metadata": {},
   "outputs": [
    {
     "data": {
      "text/plain": [
       "'Adventures'"
      ]
     },
     "execution_count": 23,
     "metadata": {},
     "output_type": "execute_result"
    }
   ],
   "source": [
    "# we can change the book_type value directly using\n",
    "    # Book class, but it is not recommeded\n",
    "\n",
    "Book.book_type = 'Adventures'\n",
    "b3 = Book(460)\n",
    "b3.book_type"
   ]
  },
  {
   "cell_type": "code",
   "execution_count": 28,
   "id": "7bc4f369",
   "metadata": {},
   "outputs": [],
   "source": [
    "class Circle():\n",
    "    pi = 3.14159265\n",
    "\n",
    "    def __init__(self, r):\n",
    "        self.r = r\n",
    "\n",
    "    def masahat(self):\n",
    "        result = Circle.pi * (self.r ** 2)\n",
    "        return f\"Masahat is: {result}\"\n"
   ]
  },
  {
   "cell_type": "code",
   "execution_count": 29,
   "id": "6fcb38b9",
   "metadata": {},
   "outputs": [
    {
     "name": "stdout",
     "output_type": "stream",
     "text": [
      "10\n"
     ]
    },
    {
     "data": {
      "text/plain": [
       "'Masahat is: 314.159265'"
      ]
     },
     "execution_count": 29,
     "metadata": {},
     "output_type": "execute_result"
    }
   ],
   "source": [
    "c = Circle(10)\n",
    "print(c.r)\n",
    "c.masahat()"
   ]
  },
  {
   "cell_type": "code",
   "execution_count": 33,
   "id": "ec3af4d4",
   "metadata": {},
   "outputs": [
    {
     "name": "stdout",
     "output_type": "stream",
     "text": [
      "Hello!\n"
     ]
    }
   ],
   "source": [
    "class Person:\n",
    "    def say_hello(self):\n",
    "        return \"Hello!\"\n",
    "\n",
    "p = Person()\n",
    "print(p.say_hello())"
   ]
  },
  {
   "cell_type": "markdown",
   "id": "45a9f848",
   "metadata": {},
   "source": [
    "### Inheritance"
   ]
  },
  {
   "cell_type": "code",
   "execution_count": 57,
   "id": "49e01a79",
   "metadata": {},
   "outputs": [],
   "source": [
    "class Book():\n",
    "    def __init__(self, name, page):\n",
    "        self.name = name\n",
    "        self.page = page\n",
    "\n",
    "    def open(self):\n",
    "        print(f\"opened the {self.name} which has {self.page} pages.\")"
   ]
  },
  {
   "cell_type": "code",
   "execution_count": 58,
   "id": "c6502ac6",
   "metadata": {},
   "outputs": [
    {
     "name": "stdout",
     "output_type": "stream",
     "text": [
      "Mortality\n",
      "642\n",
      "opened the Mortality which has 642 pages.\n"
     ]
    }
   ],
   "source": [
    "b1 = Book(\"Mortality\", 642)\n",
    "print(b1.name)\n",
    "print(b1.page)\n",
    "b1.open()"
   ]
  },
  {
   "cell_type": "code",
   "execution_count": 61,
   "id": "463d5bba",
   "metadata": {},
   "outputs": [],
   "source": [
    "# inheretance\n",
    "class Darsi(Book):\n",
    "    def __init__(self, name, page, paye, reshte):\n",
    "        super().__init__(name, page)\n",
    "        self.paye = paye\n",
    "        self.reshte = reshte\n",
    "\n",
    "        print( 'a new darsi book is created.')\n",
    "\n",
    "    # override the open function\n",
    "    def open(self):\n",
    "        print(f'opened {self.name} of {self.reshte} of paye {self.paye}')"
   ]
  },
  {
   "cell_type": "code",
   "execution_count": 62,
   "id": "1ae17219",
   "metadata": {},
   "outputs": [
    {
     "name": "stdout",
     "output_type": "stream",
     "text": [
      "a new darsi book is created.\n",
      "1000 nokte\n",
      "53\n",
      "3\n",
      "riazi\n",
      "opened 1000 nokte of riazi of paye 3\n"
     ]
    }
   ],
   "source": [
    "new_book = Darsi(\"1000 nokte\", 53, 3, \"riazi\")\n",
    "\n",
    "print(new_book.name)\n",
    "print(new_book.page)\n",
    "print(new_book.paye)\n",
    "print(new_book.reshte)\n",
    "new_book.open()"
   ]
  }
 ],
 "metadata": {
  "kernelspec": {
   "display_name": "test_env",
   "language": "python",
   "name": "python3"
  },
  "language_info": {
   "codemirror_mode": {
    "name": "ipython",
    "version": 3
   },
   "file_extension": ".py",
   "mimetype": "text/x-python",
   "name": "python",
   "nbconvert_exporter": "python",
   "pygments_lexer": "ipython3",
   "version": "3.12.9"
  }
 },
 "nbformat": 4,
 "nbformat_minor": 5
}
