{
 "cells": [
  {
   "cell_type": "markdown",
   "id": "edeb11f1",
   "metadata": {},
   "source": [
    "## OOP"
   ]
  },
  {
   "cell_type": "code",
   "execution_count": 16,
   "id": "ad76e8ff",
   "metadata": {},
   "outputs": [],
   "source": [
    "class ClassName():\n",
    "    def __init__(self, param1):\n",
    "        self.param1 = param1        # attribute\n",
    "        print(\"Object Created\")\n",
    "\n",
    "    def say_hello(self):        # method\n",
    "        print(\"hello\")"
   ]
  },
  {
   "cell_type": "code",
   "execution_count": 17,
   "id": "6384dc27",
   "metadata": {},
   "outputs": [
    {
     "name": "stdout",
     "output_type": "stream",
     "text": [
      "Object Created\n"
     ]
    }
   ],
   "source": [
    "t = ClassName(5)        # create an instance"
   ]
  },
  {
   "cell_type": "code",
   "execution_count": 21,
   "id": "d7a8f89d",
   "metadata": {},
   "outputs": [
    {
     "data": {
      "text/plain": [
       "__main__.ClassName"
      ]
     },
     "execution_count": 21,
     "metadata": {},
     "output_type": "execute_result"
    }
   ],
   "source": [
    "type(t)"
   ]
  },
  {
   "cell_type": "code",
   "execution_count": null,
   "id": "3a00fcec",
   "metadata": {},
   "outputs": [
    {
     "data": {
      "text/plain": [
       "5"
      ]
     },
     "execution_count": 19,
     "metadata": {},
     "output_type": "execute_result"
    }
   ],
   "source": [
    "# attribute\n",
    "t.param1"
   ]
  },
  {
   "cell_type": "code",
   "execution_count": 20,
   "id": "052a5118",
   "metadata": {},
   "outputs": [
    {
     "name": "stdout",
     "output_type": "stream",
     "text": [
      "hello\n"
     ]
    }
   ],
   "source": [
    "# method\n",
    "t.say_hello()"
   ]
  },
  {
   "cell_type": "markdown",
   "id": "ebd242e0",
   "metadata": {},
   "source": [
    "- We have added a new class, or object in python in the code below."
   ]
  },
  {
   "cell_type": "code",
   "execution_count": 6,
   "id": "7afc9c74",
   "metadata": {},
   "outputs": [],
   "source": [
    "class Book():\n",
    "    book_type = 'horror'\n",
    "\n",
    "    def __init__(self, page):\n",
    "        self.pages = page\n",
    "\n",
    "    def open(self):\n",
    "        print(f\"Opened the book on last page {self.pages}\")"
   ]
  },
  {
   "cell_type": "code",
   "execution_count": 3,
   "id": "8ef86e42",
   "metadata": {},
   "outputs": [
    {
     "name": "stdout",
     "output_type": "stream",
     "text": [
      "<__main__.Book object at 0x000001ADB9481460>\n",
      "526\n"
     ]
    }
   ],
   "source": [
    "mybook = Book(526)\n",
    "print(mybook)\n",
    "print(mybook.pages)"
   ]
  },
  {
   "cell_type": "code",
   "execution_count": null,
   "id": "14ccedc6",
   "metadata": {},
   "outputs": [
    {
     "name": "stdout",
     "output_type": "stream",
     "text": [
      "230\n"
     ]
    }
   ],
   "source": [
    "your_book = Book(230)\n",
    "print(your_book.pages)"
   ]
  },
  {
   "cell_type": "code",
   "execution_count": null,
   "id": "d051baed",
   "metadata": {},
   "outputs": [
    {
     "name": "stdout",
     "output_type": "stream",
     "text": [
      "Opened the book on last page 526\n"
     ]
    }
   ],
   "source": [
    "mybook.open()"
   ]
  },
  {
   "cell_type": "code",
   "execution_count": 21,
   "id": "bb57b016",
   "metadata": {},
   "outputs": [
    {
     "name": "stdout",
     "output_type": "stream",
     "text": [
      "100\n",
      "Opened the book on last page 100\n",
      "b1 book type is: horror\n",
      "b2 book type is: horror\n",
      "b1 book type after the change is: fun\n"
     ]
    }
   ],
   "source": [
    "b1 = Book(100)\n",
    "print(b1.pages)\n",
    "b1.open()\n",
    "print(f\"b1 book type is: {b1.book_type}\")\n",
    "\n",
    "b2 = Book(50)\n",
    "print(f\"b2 book type is: {b2.book_type}\")\n",
    "\n",
    "b1.book_type = 'fun'\n",
    "print(f\"b1 book type after the change is: {b1.book_type}\")"
   ]
  },
  {
   "cell_type": "code",
   "execution_count": 23,
   "id": "332bc0d5",
   "metadata": {},
   "outputs": [
    {
     "data": {
      "text/plain": [
       "'Adventures'"
      ]
     },
     "execution_count": 23,
     "metadata": {},
     "output_type": "execute_result"
    }
   ],
   "source": [
    "# we can change the book_type value directly using\n",
    "    # Book class, but it is not recommeded\n",
    "\n",
    "Book.book_type = 'Adventures'\n",
    "b3 = Book(460)\n",
    "b3.book_type"
   ]
  },
  {
   "cell_type": "code",
   "execution_count": 28,
   "id": "7bc4f369",
   "metadata": {},
   "outputs": [],
   "source": [
    "class Circle():\n",
    "    pi = 3.14159265\n",
    "\n",
    "    def __init__(self, r):\n",
    "        self.r = r\n",
    "\n",
    "    def masahat(self):\n",
    "        result = Circle.pi * (self.r ** 2)\n",
    "        return f\"Masahat is: {result}\"\n"
   ]
  },
  {
   "cell_type": "code",
   "execution_count": 29,
   "id": "6fcb38b9",
   "metadata": {},
   "outputs": [
    {
     "name": "stdout",
     "output_type": "stream",
     "text": [
      "10\n"
     ]
    },
    {
     "data": {
      "text/plain": [
       "'Masahat is: 314.159265'"
      ]
     },
     "execution_count": 29,
     "metadata": {},
     "output_type": "execute_result"
    }
   ],
   "source": [
    "c = Circle(10)\n",
    "print(c.r)\n",
    "c.masahat()"
   ]
  },
  {
   "cell_type": "code",
   "execution_count": 33,
   "id": "ec3af4d4",
   "metadata": {},
   "outputs": [
    {
     "name": "stdout",
     "output_type": "stream",
     "text": [
      "Hello!\n"
     ]
    }
   ],
   "source": [
    "class Person:\n",
    "    def say_hello(self):\n",
    "        return \"Hello!\"\n",
    "\n",
    "p = Person()\n",
    "print(p.say_hello())"
   ]
  },
  {
   "cell_type": "markdown",
   "id": "45a9f848",
   "metadata": {},
   "source": [
    "### Inheritance"
   ]
  },
  {
   "cell_type": "code",
   "execution_count": 57,
   "id": "49e01a79",
   "metadata": {},
   "outputs": [],
   "source": [
    "class Book():\n",
    "    def __init__(self, name, page):\n",
    "        self.name = name\n",
    "        self.page = page\n",
    "\n",
    "    def open(self):\n",
    "        print(f\"opened the {self.name} which has {self.page} pages.\")"
   ]
  },
  {
   "cell_type": "code",
   "execution_count": 58,
   "id": "c6502ac6",
   "metadata": {},
   "outputs": [
    {
     "name": "stdout",
     "output_type": "stream",
     "text": [
      "Mortality\n",
      "642\n",
      "opened the Mortality which has 642 pages.\n"
     ]
    }
   ],
   "source": [
    "b1 = Book(\"Mortality\", 642)\n",
    "print(b1.name)\n",
    "print(b1.page)\n",
    "b1.open()"
   ]
  },
  {
   "cell_type": "code",
   "execution_count": 61,
   "id": "463d5bba",
   "metadata": {},
   "outputs": [],
   "source": [
    "# inheretance\n",
    "class Darsi(Book):\n",
    "    def __init__(self, name, page, paye, reshte):\n",
    "        super().__init__(name, page)\n",
    "        self.paye = paye\n",
    "        self.reshte = reshte\n",
    "\n",
    "        print( 'a new darsi book is created.')\n",
    "\n",
    "    # override the open function\n",
    "    def open(self):\n",
    "        print(f'opened {self.name} of {self.reshte} of paye {self.paye}')"
   ]
  },
  {
   "cell_type": "code",
   "execution_count": 62,
   "id": "1ae17219",
   "metadata": {},
   "outputs": [
    {
     "name": "stdout",
     "output_type": "stream",
     "text": [
      "a new darsi book is created.\n",
      "1000 nokte\n",
      "53\n",
      "3\n",
      "riazi\n",
      "opened 1000 nokte of riazi of paye 3\n"
     ]
    }
   ],
   "source": [
    "new_book = Darsi(\"1000 nokte\", 53, 3, \"riazi\")\n",
    "\n",
    "print(new_book.name)\n",
    "print(new_book.page)\n",
    "print(new_book.paye)\n",
    "print(new_book.reshte)\n",
    "new_book.open()"
   ]
  },
  {
   "cell_type": "markdown",
   "id": "4abbe9ef",
   "metadata": {},
   "source": [
    "### Polymorphism\n",
    "- We can call the same method on the different objects with different output."
   ]
  },
  {
   "cell_type": "code",
   "execution_count": 63,
   "id": "4ea9c480",
   "metadata": {},
   "outputs": [],
   "source": [
    "class Runner():\n",
    "    def __init__(self, name):\n",
    "        self.name = name\n",
    "\n",
    "    def action(self):\n",
    "        print(f'{self.name} is running.')"
   ]
  },
  {
   "cell_type": "code",
   "execution_count": 76,
   "id": "b05c8a03",
   "metadata": {},
   "outputs": [
    {
     "name": "stdout",
     "output_type": "stream",
     "text": [
      "Madison is running.\n"
     ]
    }
   ],
   "source": [
    "athlete1 = Runner(\"Madison\")\n",
    "athlete1.action()"
   ]
  },
  {
   "cell_type": "code",
   "execution_count": 77,
   "id": "6dc4993c",
   "metadata": {},
   "outputs": [],
   "source": [
    "class Swimmer():\n",
    "    def __init__(self, name):\n",
    "        self.name = name\n",
    "\n",
    "    def action(self):\n",
    "        print(f'{self.name} is swimming.')"
   ]
  },
  {
   "cell_type": "code",
   "execution_count": 78,
   "id": "a4ddc9e6",
   "metadata": {},
   "outputs": [
    {
     "name": "stdout",
     "output_type": "stream",
     "text": [
      "Micheal is swimming.\n"
     ]
    }
   ],
   "source": [
    "athlete2 = Swimmer('Micheal')\n",
    "athlete2.action()       # same method name -action- but\n",
    "                            # different output"
   ]
  },
  {
   "cell_type": "code",
   "execution_count": 79,
   "id": "49bb693f",
   "metadata": {},
   "outputs": [
    {
     "name": "stdout",
     "output_type": "stream",
     "text": [
      "Madison is running.\n",
      "Micheal is swimming.\n"
     ]
    }
   ],
   "source": [
    "for athlete in [athlete1, athlete2]:\n",
    "    athlete.action()"
   ]
  },
  {
   "cell_type": "code",
   "execution_count": 83,
   "id": "270fe96c",
   "metadata": {},
   "outputs": [
    {
     "name": "stdout",
     "output_type": "stream",
     "text": [
      "Madison is running.\n",
      "Micheal is swimming.\n"
     ]
    }
   ],
   "source": [
    "# OR\n",
    "def show_what_doing(person):\n",
    "    person.action()\n",
    "\n",
    "show_what_doing(athlete1)\n",
    "show_what_doing(athlete2)"
   ]
  },
  {
   "cell_type": "markdown",
   "id": "0a4ede34",
   "metadata": {},
   "source": [
    "### Abstraction"
   ]
  },
  {
   "cell_type": "code",
   "execution_count": 95,
   "id": "f1d6d1a2",
   "metadata": {},
   "outputs": [],
   "source": [
    "class Human():\n",
    "    def __init__(self, name):\n",
    "        self.name = name\n",
    "\n",
    "    def jump(self):\n",
    "        raise NotImplementedError(\"Implement the jump\")"
   ]
  },
  {
   "cell_type": "code",
   "execution_count": 96,
   "id": "c796b5eb",
   "metadata": {},
   "outputs": [],
   "source": [
    "class Programmer(Human):\n",
    "    def __init__(self):\n",
    "        pass"
   ]
  },
  {
   "cell_type": "code",
   "execution_count": 97,
   "id": "fdc28f56",
   "metadata": {},
   "outputs": [
    {
     "ename": "NotImplementedError",
     "evalue": "Implement the jump",
     "output_type": "error",
     "traceback": [
      "\u001b[1;31m---------------------------------------------------------------------------\u001b[0m",
      "\u001b[1;31mNotImplementedError\u001b[0m                       Traceback (most recent call last)",
      "Cell \u001b[1;32mIn[97], line 2\u001b[0m\n\u001b[0;32m      1\u001b[0m p1 \u001b[38;5;241m=\u001b[39m Programmer()\n\u001b[1;32m----> 2\u001b[0m p1\u001b[38;5;241m.\u001b[39mjump()\n",
      "Cell \u001b[1;32mIn[95], line 6\u001b[0m, in \u001b[0;36mHuman.jump\u001b[1;34m(self)\u001b[0m\n\u001b[0;32m      5\u001b[0m \u001b[38;5;28;01mdef\u001b[39;00m \u001b[38;5;21mjump\u001b[39m(\u001b[38;5;28mself\u001b[39m):\n\u001b[1;32m----> 6\u001b[0m     \u001b[38;5;28;01mraise\u001b[39;00m \u001b[38;5;167;01mNotImplementedError\u001b[39;00m(\u001b[38;5;124m\"\u001b[39m\u001b[38;5;124mImplement the jump\u001b[39m\u001b[38;5;124m\"\u001b[39m)\n",
      "\u001b[1;31mNotImplementedError\u001b[0m: Implement the jump"
     ]
    }
   ],
   "source": [
    "p1 = Programmer()\n",
    "p1.jump()\n",
    "\n",
    "# it will received an NotImplementedError\n",
    "    # so a jump method should be defined in programmer class "
   ]
  },
  {
   "cell_type": "markdown",
   "id": "c050f2e6",
   "metadata": {},
   "source": [
    "### dunder (double underscore like `__init__`) | Special Methods | Magic Methods"
   ]
  },
  {
   "cell_type": "code",
   "execution_count": 98,
   "id": "3d06ea11",
   "metadata": {},
   "outputs": [],
   "source": [
    "class Book():\n",
    "    def __init__(self, name, page):\n",
    "        self.name = name\n",
    "        self.page = page\n",
    "\n",
    "    def open(self):\n",
    "        print(f\"opened the {self.name} which has {self.page} pages.\")"
   ]
  },
  {
   "cell_type": "code",
   "execution_count": 103,
   "id": "a18ef866",
   "metadata": {},
   "outputs": [
    {
     "name": "stdout",
     "output_type": "stream",
     "text": [
      "<__main__.Book object at 0x000001ADB9741EE0>\n"
     ]
    },
    {
     "ename": "TypeError",
     "evalue": "object of type 'Book' has no len()",
     "output_type": "error",
     "traceback": [
      "\u001b[1;31m---------------------------------------------------------------------------\u001b[0m",
      "\u001b[1;31mTypeError\u001b[0m                                 Traceback (most recent call last)",
      "Cell \u001b[1;32mIn[103], line 3\u001b[0m\n\u001b[0;32m      1\u001b[0m b \u001b[38;5;241m=\u001b[39m Book(\u001b[38;5;124m'\u001b[39m\u001b[38;5;124mIntroduction to RL\u001b[39m\u001b[38;5;124m'\u001b[39m, \u001b[38;5;241m379\u001b[39m)\n\u001b[0;32m      2\u001b[0m \u001b[38;5;28mprint\u001b[39m(b)\n\u001b[1;32m----> 3\u001b[0m \u001b[38;5;28mlen\u001b[39m(b)\n",
      "\u001b[1;31mTypeError\u001b[0m: object of type 'Book' has no len()"
     ]
    }
   ],
   "source": [
    "b = Book('Introduction to RL', 379)\n",
    "print(b)\n",
    "len(b)\n",
    "# This could be solved using dunder :)"
   ]
  },
  {
   "cell_type": "code",
   "execution_count": 130,
   "id": "ac853cc9",
   "metadata": {},
   "outputs": [],
   "source": [
    "class Book():\n",
    "    def __init__(self, name='Unknown', page=0):         # standardize \n",
    "        self.name = name\n",
    "        self.page = page\n",
    "\n",
    "    def open(self):\n",
    "        print(f\"opened the {self.name} which has {self.page} pages.\")\n",
    "\n",
    "    def __len__(self):\n",
    "        return self.page\n",
    "    \n",
    "    def __str__(self):      # it would be called by print\n",
    "        return f'{self.name}, {self.page}'\n",
    "    \n",
    "    def __del__(self):\n",
    "        print(f'oh, {self.name} is vanishing...')"
   ]
  },
  {
   "cell_type": "code",
   "execution_count": 113,
   "id": "582ba6a4",
   "metadata": {},
   "outputs": [
    {
     "name": "stdout",
     "output_type": "stream",
     "text": [
      "Unknown, 0\n"
     ]
    }
   ],
   "source": [
    "book4 = Book()\n",
    "print(book4)"
   ]
  },
  {
   "cell_type": "code",
   "execution_count": 108,
   "id": "f5cf2710",
   "metadata": {},
   "outputs": [
    {
     "name": "stdout",
     "output_type": "stream",
     "text": [
      "352\n",
      "Intro to RL, 352\n"
     ]
    }
   ],
   "source": [
    "book5 = Book('Intro to RL', 352)\n",
    "print(len(book5))\n",
    "print(book5)"
   ]
  },
  {
   "cell_type": "code",
   "execution_count": 126,
   "id": "db46696f",
   "metadata": {},
   "outputs": [
    {
     "data": {
      "text/plain": [
       "50"
      ]
     },
     "execution_count": 126,
     "metadata": {},
     "output_type": "execute_result"
    }
   ],
   "source": [
    "# usage of dunbar 'del'  -> to clear the memory\n",
    "i = 50\n",
    "i"
   ]
  },
  {
   "cell_type": "code",
   "execution_count": 127,
   "id": "1e36efef",
   "metadata": {},
   "outputs": [
    {
     "ename": "NameError",
     "evalue": "name 'i' is not defined",
     "output_type": "error",
     "traceback": [
      "\u001b[1;31m---------------------------------------------------------------------------\u001b[0m",
      "\u001b[1;31mNameError\u001b[0m                                 Traceback (most recent call last)",
      "Cell \u001b[1;32mIn[127], line 2\u001b[0m\n\u001b[0;32m      1\u001b[0m \u001b[38;5;28;01mdel\u001b[39;00m i\n\u001b[1;32m----> 2\u001b[0m i\n",
      "\u001b[1;31mNameError\u001b[0m: name 'i' is not defined"
     ]
    }
   ],
   "source": [
    "del i\n",
    "i"
   ]
  },
  {
   "cell_type": "code",
   "execution_count": null,
   "id": "992146b8",
   "metadata": {},
   "outputs": [
    {
     "name": "stdout",
     "output_type": "stream",
     "text": [
      "1984, 228\n"
     ]
    }
   ],
   "source": [
    "# to practice del on a class | dunder\n",
    "book6 = Book('1984', 228)\n",
    "print(book6)"
   ]
  },
  {
   "cell_type": "code",
   "execution_count": 136,
   "id": "9f782439",
   "metadata": {},
   "outputs": [
    {
     "name": "stdout",
     "output_type": "stream",
     "text": [
      "oh, 1984 is vanishing...\n"
     ]
    }
   ],
   "source": [
    "del(book6)"
   ]
  }
 ],
 "metadata": {
  "kernelspec": {
   "display_name": "test_env",
   "language": "python",
   "name": "python3"
  },
  "language_info": {
   "codemirror_mode": {
    "name": "ipython",
    "version": 3
   },
   "file_extension": ".py",
   "mimetype": "text/x-python",
   "name": "python",
   "nbconvert_exporter": "python",
   "pygments_lexer": "ipython3",
   "version": "3.12.9"
  }
 },
 "nbformat": 4,
 "nbformat_minor": 5
}
