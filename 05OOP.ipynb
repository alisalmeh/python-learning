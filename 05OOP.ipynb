{
 "cells": [
  {
   "cell_type": "markdown",
   "id": "edeb11f1",
   "metadata": {},
   "source": [
    "## OOP"
   ]
  },
  {
   "cell_type": "code",
   "execution_count": 16,
   "id": "ad76e8ff",
   "metadata": {},
   "outputs": [],
   "source": [
    "class ClassName():\n",
    "    def __init__(self, param1):\n",
    "        self.param1 = param1        # attribute\n",
    "        print(\"Object Created\")\n",
    "\n",
    "    def say_hello(self):        # method\n",
    "        print(\"hello\")"
   ]
  },
  {
   "cell_type": "code",
   "execution_count": 17,
   "id": "6384dc27",
   "metadata": {},
   "outputs": [
    {
     "name": "stdout",
     "output_type": "stream",
     "text": [
      "Object Created\n"
     ]
    }
   ],
   "source": [
    "t = ClassName(5)        # create an instance"
   ]
  },
  {
   "cell_type": "code",
   "execution_count": 21,
   "id": "d7a8f89d",
   "metadata": {},
   "outputs": [
    {
     "data": {
      "text/plain": [
       "__main__.ClassName"
      ]
     },
     "execution_count": 21,
     "metadata": {},
     "output_type": "execute_result"
    }
   ],
   "source": [
    "type(t)"
   ]
  },
  {
   "cell_type": "code",
   "execution_count": null,
   "id": "3a00fcec",
   "metadata": {},
   "outputs": [
    {
     "data": {
      "text/plain": [
       "5"
      ]
     },
     "execution_count": 19,
     "metadata": {},
     "output_type": "execute_result"
    }
   ],
   "source": [
    "# attribute\n",
    "t.param1"
   ]
  },
  {
   "cell_type": "code",
   "execution_count": 20,
   "id": "052a5118",
   "metadata": {},
   "outputs": [
    {
     "name": "stdout",
     "output_type": "stream",
     "text": [
      "hello\n"
     ]
    }
   ],
   "source": [
    "# method\n",
    "t.say_hello()"
   ]
  },
  {
   "cell_type": "markdown",
   "id": "ebd242e0",
   "metadata": {},
   "source": [
    "- We have added a new class, or object in python in the code below."
   ]
  },
  {
   "cell_type": "code",
   "execution_count": 6,
   "id": "7afc9c74",
   "metadata": {},
   "outputs": [],
   "source": [
    "class Book():\n",
    "    book_type = 'horror'\n",
    "\n",
    "    def __init__(self, page):\n",
    "        self.pages = page\n",
    "\n",
    "    def open(self):\n",
    "        print(f\"Opened the book on last page {self.pages}\")"
   ]
  },
  {
   "cell_type": "code",
   "execution_count": 3,
   "id": "8ef86e42",
   "metadata": {},
   "outputs": [
    {
     "name": "stdout",
     "output_type": "stream",
     "text": [
      "<__main__.Book object at 0x000001ADB9481460>\n",
      "526\n"
     ]
    }
   ],
   "source": [
    "mybook = Book(526)\n",
    "print(mybook)\n",
    "print(mybook.pages)"
   ]
  },
  {
   "cell_type": "code",
   "execution_count": null,
   "id": "14ccedc6",
   "metadata": {},
   "outputs": [
    {
     "name": "stdout",
     "output_type": "stream",
     "text": [
      "230\n"
     ]
    }
   ],
   "source": [
    "your_book = Book(230)\n",
    "print(your_book.pages)"
   ]
  },
  {
   "cell_type": "code",
   "execution_count": null,
   "id": "d051baed",
   "metadata": {},
   "outputs": [
    {
     "name": "stdout",
     "output_type": "stream",
     "text": [
      "Opened the book on last page 526\n"
     ]
    }
   ],
   "source": [
    "mybook.open()"
   ]
  },
  {
   "cell_type": "code",
   "execution_count": 21,
   "id": "bb57b016",
   "metadata": {},
   "outputs": [
    {
     "name": "stdout",
     "output_type": "stream",
     "text": [
      "100\n",
      "Opened the book on last page 100\n",
      "b1 book type is: horror\n",
      "b2 book type is: horror\n",
      "b1 book type after the change is: fun\n"
     ]
    }
   ],
   "source": [
    "b1 = Book(100)\n",
    "print(b1.pages)\n",
    "b1.open()\n",
    "print(f\"b1 book type is: {b1.book_type}\")\n",
    "\n",
    "b2 = Book(50)\n",
    "print(f\"b2 book type is: {b2.book_type}\")\n",
    "\n",
    "b1.book_type = 'fun'\n",
    "print(f\"b1 book type after the change is: {b1.book_type}\")"
   ]
  },
  {
   "cell_type": "code",
   "execution_count": 23,
   "id": "332bc0d5",
   "metadata": {},
   "outputs": [
    {
     "data": {
      "text/plain": [
       "'Adventures'"
      ]
     },
     "execution_count": 23,
     "metadata": {},
     "output_type": "execute_result"
    }
   ],
   "source": [
    "# we can change the book_type value directly using\n",
    "    # Book class, but it is not recommeded\n",
    "\n",
    "Book.book_type = 'Adventures'\n",
    "b3 = Book(460)\n",
    "b3.book_type"
   ]
  }
 ],
 "metadata": {
  "kernelspec": {
   "display_name": "test_env",
   "language": "python",
   "name": "python3"
  },
  "language_info": {
   "codemirror_mode": {
    "name": "ipython",
    "version": 3
   },
   "file_extension": ".py",
   "mimetype": "text/x-python",
   "name": "python",
   "nbconvert_exporter": "python",
   "pygments_lexer": "ipython3",
   "version": "3.12.9"
  }
 },
 "nbformat": 4,
 "nbformat_minor": 5
}
