{
 "cells": [
  {
   "cell_type": "markdown",
   "id": "dcce3fa8",
   "metadata": {},
   "source": [
    "## Methods"
   ]
  },
  {
   "cell_type": "code",
   "execution_count": 1,
   "id": "929d3968",
   "metadata": {},
   "outputs": [
    {
     "name": "stdout",
     "output_type": "stream",
     "text": [
      "Help on built-in function pop:\n",
      "\n",
      "pop(index=-1, /) method of builtins.list instance\n",
      "    Remove and return item at index (default last).\n",
      "\n",
      "    Raises IndexError if list is empty or index is out of range.\n",
      "\n"
     ]
    }
   ],
   "source": [
    "l = [1, 2, 3, 4]\n",
    "help(l.pop)"
   ]
  },
  {
   "cell_type": "markdown",
   "id": "18cba8e3",
   "metadata": {},
   "source": [
    "## Functions"
   ]
  },
  {
   "cell_type": "markdown",
   "id": "1e400506",
   "metadata": {},
   "source": [
    "- This type of commenting, ''' comment ''', is called a docstring. It is used to describe the purpose of a function and is typically placed at the beginning of the function definition."
   ]
  },
  {
   "cell_type": "code",
   "execution_count": 2,
   "id": "7591481b",
   "metadata": {},
   "outputs": [
    {
     "name": "stdout",
     "output_type": "stream",
     "text": [
      "Hello Ali\n",
      "Hello Ali\n",
      "Hello Ali\n"
     ]
    }
   ],
   "source": [
    "def hello(name):\n",
    "    '''\n",
    "    This function says hello to the name,\n",
    "    in the range of i\n",
    "    '''\n",
    "    for i in range(3):\n",
    "        print(f\"Hello {name}\")\n",
    "\n",
    "hello('Ali')"
   ]
  },
  {
   "cell_type": "code",
   "execution_count": 3,
   "id": "ad469ec9",
   "metadata": {},
   "outputs": [
    {
     "name": "stdout",
     "output_type": "stream",
     "text": [
      "the number of 'c' character in celara is: 1\n"
     ]
    }
   ],
   "source": [
    "def chandta_toosh():\n",
    "    s = input()\n",
    "    for i in s:\n",
    "        c =  s.count('c')\n",
    "    print(f\"the number of 'c' character in {s} is: {c}\")\n",
    "\n",
    "chandta_toosh()"
   ]
  },
  {
   "cell_type": "code",
   "execution_count": 4,
   "id": "193b78fc",
   "metadata": {},
   "outputs": [
    {
     "data": {
      "text/plain": [
       "3"
      ]
     },
     "execution_count": 4,
     "metadata": {},
     "output_type": "execute_result"
    }
   ],
   "source": [
    "def chandta_toosh(s, char):\n",
    "    '''\n",
    "    gets a string and a character, and returns\n",
    "    the number of that character repeatition in\n",
    "    that string\n",
    "    '''\n",
    "    s = s.lower()\n",
    "    char = char.lower()\n",
    "    counter = 0\n",
    "    for this_character in s:\n",
    "        if this_character == char:\n",
    "            counter += 1\n",
    "    return counter\n",
    "    \n",
    "name = \"Ali Agha\"\n",
    "\n",
    "chandta_toosh(name, 'a')"
   ]
  },
  {
   "cell_type": "code",
   "execution_count": 5,
   "id": "fe805dd2",
   "metadata": {},
   "outputs": [
    {
     "name": "stdout",
     "output_type": "stream",
     "text": [
      "Ali\n",
      "Ali\n",
      "Ali\n",
      "Ali\n",
      "Nima\n",
      "Mehrdad\n"
     ]
    }
   ],
   "source": [
    "# default n=1 ==> No error will occur\n",
    "def print_times(name, n=1):\n",
    "    '''\n",
    "    Print name, n times\n",
    "    '''\n",
    "    for _ in range(n):\n",
    "        print(name)\n",
    "\n",
    "print_times(\"Ali\", 4)\n",
    "print_times(\"Nima\", 1)\n",
    "print_times(\"Mehrdad\")"
   ]
  },
  {
   "cell_type": "code",
   "execution_count": 6,
   "id": "ec08635c",
   "metadata": {},
   "outputs": [
    {
     "data": {
      "text/plain": [
       "25"
      ]
     },
     "execution_count": 6,
     "metadata": {},
     "output_type": "execute_result"
    }
   ],
   "source": [
    "def tavan(n, t=2):\n",
    "    result = 1\n",
    "    for i in range(t):\n",
    "        result *= n\n",
    "    return result\n",
    "\n",
    "tavan(2, 3)\n",
    "tavan(5)"
   ]
  },
  {
   "cell_type": "code",
   "execution_count": 7,
   "id": "308e61ec",
   "metadata": {},
   "outputs": [
    {
     "name": "stdout",
     "output_type": "stream",
     "text": [
      "2\n"
     ]
    }
   ],
   "source": [
    "# Function in function\n",
    "def is_even(n):\n",
    "    return (n % 2 == 0)\n",
    "\n",
    "def number_of_evens(n):\n",
    "    counter = 0\n",
    "    for i in n:\n",
    "        if is_even(i):\n",
    "            counter += 1\n",
    "    return counter\n",
    "\n",
    "result = number_of_evens([1, 2, 3, 4, 5])\n",
    "print(result)\n"
   ]
  },
  {
   "cell_type": "code",
   "execution_count": 8,
   "id": "615d9dc6",
   "metadata": {},
   "outputs": [
    {
     "data": {
      "text/plain": [
       "False"
      ]
     },
     "execution_count": 8,
     "metadata": {},
     "output_type": "execute_result"
    }
   ],
   "source": [
    "def any_even_in_list(nums):\n",
    "    '''\n",
    "    returns True if any of the numbers is even\n",
    "    '''\n",
    "    for n in nums:\n",
    "        if is_even(n):\n",
    "            return True\n",
    "    return False\n",
    "\n",
    "any_even_in_list([1, 3])\n"
   ]
  },
  {
   "cell_type": "code",
   "execution_count": 9,
   "id": "edfafa0a",
   "metadata": {},
   "outputs": [
    {
     "name": "stdout",
     "output_type": "stream",
     "text": [
      "22\n"
     ]
    }
   ],
   "source": [
    "def largest(nums):\n",
    "    '''\n",
    "    returns the largest number in of a list\n",
    "    '''\n",
    "    current_num = my_numbers[0]     # current_num is called a palceholder variable.\n",
    "    for num in nums:\n",
    "        if num > current_num:\n",
    "            current_num = num\n",
    "    return current_num \n",
    "\n",
    "my_numbers = [1, 2, 13, 14, 18, 6, 22, 9]\n",
    "show_largest_number = largest(my_numbers)\n",
    "print(show_largest_number)"
   ]
  },
  {
   "cell_type": "code",
   "execution_count": 10,
   "id": "e12444be",
   "metadata": {},
   "outputs": [
    {
     "name": "stdout",
     "output_type": "stream",
     "text": [
      "[1, 45, 13, 67]\n"
     ]
    }
   ],
   "source": [
    "def is_even(n):\n",
    "    return n%2 == 0\n",
    "\n",
    "def get_odds(nums):\n",
    "    odds = []\n",
    "    for num in nums:\n",
    "        if not is_even(num):\n",
    "            odds.append(num)\n",
    "    return odds\n",
    "\n",
    "my_list = [1, 45, 6, 42, 13, 67, 90]\n",
    "my_odds = get_odds(my_list)\n",
    "print(my_odds)"
   ]
  },
  {
   "cell_type": "code",
   "execution_count": 11,
   "id": "8fe567b5",
   "metadata": {},
   "outputs": [
    {
     "name": "stdout",
     "output_type": "stream",
     "text": [
      "4 | [1, 45, 13, 67]\n"
     ]
    }
   ],
   "source": [
    "# When we want to return more than one thing --> tuple\n",
    "def is_even(n):\n",
    "    return n%2 == 0\n",
    "\n",
    "def get_odds(nums):\n",
    "    odds = []\n",
    "    count = 0\n",
    "\n",
    "    for num in nums:\n",
    "        if not is_even(num):\n",
    "            odds.append(num)\n",
    "            count += 1\n",
    "\n",
    "    return count, odds      # this is a tuple, actually :)\n",
    "\n",
    "my_list = [1, 45, 6, 42, 13, 67, 90]\n",
    "odds_count, my_odds = get_odds(my_list)\n",
    "print(odds_count, my_odds, sep=' | ')\n"
   ]
  },
  {
   "cell_type": "code",
   "execution_count": 12,
   "id": "44c5c740",
   "metadata": {},
   "outputs": [
    {
     "name": "stdout",
     "output_type": "stream",
     "text": [
      "5\n",
      "4\n"
     ]
    }
   ],
   "source": [
    "def jam_zarb(n1, n2):\n",
    "    jam = n1 + n2\n",
    "    zarb = n1 * n2\n",
    "    return jam, zarb\n",
    "\n",
    "x, y = jam_zarb(1, 4)\n",
    "print(x)\n",
    "print(y)"
   ]
  },
  {
   "cell_type": "code",
   "execution_count": null,
   "id": "3ff6a5e0",
   "metadata": {},
   "outputs": [
    {
     "name": "stdout",
     "output_type": "stream",
     "text": [
      "total donations is: 700\n",
      "average of donations is: 175.0\n",
      "person with maximum donation is: Adrian\n"
     ]
    }
   ],
   "source": [
    "# Returning tuples from functions\n",
    "donations = {\n",
    "    'Sara': 10,\n",
    "    'Joe': 40,\n",
    "    'Adrian': 500,\n",
    "    'Babak': 150\n",
    "}\n",
    "\n",
    "def donation_analysis(don):\n",
    "    total = 0\n",
    "    count = 0\n",
    "    max_person = ''\n",
    "    max_donation = -1\n",
    "\n",
    "    for k, v in don.items():\n",
    "        total += v\n",
    "        count += 1\n",
    "        if v > max_donation:\n",
    "            max_donation = v\n",
    "            max_person = k\n",
    "\n",
    "    avg = total/count\n",
    "\n",
    "    return total, avg, max_person\n",
    "\n",
    "total, avg, max_person = donation_analysis(donations)\n",
    "\n",
    "print(f\"total donations is: {total}\")\n",
    "print(f\"average of donations is: {avg}\")\n",
    "print(f\"person with maximum donation is: {max_person}\")\n"
   ]
  },
  {
   "cell_type": "code",
   "execution_count": null,
   "id": "d33622e5",
   "metadata": {},
   "outputs": [
    {
     "name": "stdout",
     "output_type": "stream",
     "text": [
      "Welcome to the game\n",
      "I will guess a number between 1 an 100 and\n",
      "you have to guess it... \n",
      "\n",
      "No! guess a higher number.\n",
      "No! guess a higher number.\n",
      "Ohh, your guess went so large!\n",
      "No! guess a higher number.\n",
      "No! guess a higher number.\n",
      "No! guess a higher number.\n",
      "Ohh, your guess went so large!\n",
      "Woow! You find it. Excellent *_*\n",
      "Good game.\n",
      "My number was 77 and you found it in 8 guesses.\n",
      "\n",
      "Bye...\n"
     ]
    }
   ],
   "source": [
    "# Guessing the number game\n",
    "import random\n",
    "\n",
    "\n",
    "def welcome():\n",
    "    print(\"Welcome to the game\")\n",
    "    print(\"I will guess a number between 1 an 100 and\")\n",
    "    print(\"you have to guess it... \")\n",
    "    print()\n",
    "\n",
    "\n",
    "def finish(number, count):\n",
    "    print(\"Good game.\")\n",
    "    print(f\"My number was {number} and you found it in {count} guesses.\")\n",
    "    print()\n",
    "    answer = input(\"Do you want to play again? (Y/N): \")\n",
    "    play_again = True if answer.upper() in [\"Y\", \"YES\", \"ARE\"] else False\n",
    "    return play_again\n",
    "\n",
    "\n",
    "def user_guess():\n",
    "    guess = input(\"What is your guess? \")\n",
    "    return int(guess)\n",
    "\n",
    "\n",
    "def answer(computer, user):\n",
    "    if computer > user:\n",
    "        return \"No! guess a higher number.\"\n",
    "    elif computer < user:\n",
    "        return \"Ohh, your guess went so large!\"\n",
    "    \n",
    "    return \"Woow! You find it. Excellent *_*\"\n",
    "\n",
    "\n",
    "def win(computer_guess, user_guess):\n",
    "    return computer_guess == user_guess\n",
    "\n",
    "\n",
    "welcome()\n",
    "continue_playing = True\n",
    "while(continue_playing):\n",
    "    computer_guess = random.randint(1, 100)\n",
    "    guess = 0       # start with a wrong guess\n",
    "    count = 0\n",
    "\n",
    "    while(not win(computer_guess, guess)):\n",
    "        guess = user_guess()\n",
    "        print(answer(computer_guess, guess))\n",
    "        count += 1\n",
    "\n",
    "    continue_playing = finish(computer_guess, count)\n",
    "    print(\"Bye...\")"
   ]
  },
  {
   "cell_type": "code",
   "execution_count": null,
   "id": "a4812b80",
   "metadata": {},
   "outputs": [],
   "source": [
    "# assignment\n",
    "def hello_world():\n",
    "    print(\"Hello, World!\")\n",
    "\n",
    "\n",
    "hello_world()"
   ]
  },
  {
   "cell_type": "code",
   "execution_count": null,
   "id": "e2fe5a93",
   "metadata": {},
   "outputs": [
    {
     "ename": "TypeError",
     "evalue": "greet() missing 1 required positional argument: 'name'",
     "output_type": "error",
     "traceback": [
      "\u001b[1;31m---------------------------------------------------------------------------\u001b[0m",
      "\u001b[1;31mTypeError\u001b[0m                                 Traceback (most recent call last)",
      "Cell \u001b[1;32mIn[41], line 5\u001b[0m\n\u001b[0;32m      2\u001b[0m \u001b[38;5;28;01mdef\u001b[39;00m \u001b[38;5;21mgreet\u001b[39m(name):\n\u001b[0;32m      3\u001b[0m     \u001b[38;5;28mprint\u001b[39m(\u001b[38;5;124mf\u001b[39m\u001b[38;5;124m\"\u001b[39m\u001b[38;5;124mHello, \u001b[39m\u001b[38;5;132;01m{\u001b[39;00mname\u001b[38;5;132;01m}\u001b[39;00m\u001b[38;5;124m\"\u001b[39m)\n\u001b[1;32m----> 5\u001b[0m greet()\n",
      "\u001b[1;31mTypeError\u001b[0m: greet() missing 1 required positional argument: 'name'"
     ]
    }
   ],
   "source": [
    "# assignment\n",
    "def greet():\n",
    "    name = input()\n",
    "    print(f\"Hello, {name}!\")\n",
    "\n",
    "greet()"
   ]
  }
 ],
 "metadata": {
  "kernelspec": {
   "display_name": "test_env",
   "language": "python",
   "name": "python3"
  },
  "language_info": {
   "codemirror_mode": {
    "name": "ipython",
    "version": 3
   },
   "file_extension": ".py",
   "mimetype": "text/x-python",
   "name": "python",
   "nbconvert_exporter": "python",
   "pygments_lexer": "ipython3",
   "version": "3.12.9"
  }
 },
 "nbformat": 4,
 "nbformat_minor": 5
}
