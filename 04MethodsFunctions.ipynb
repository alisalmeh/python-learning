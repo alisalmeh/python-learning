{
 "cells": [
  {
   "cell_type": "markdown",
   "id": "dcce3fa8",
   "metadata": {},
   "source": [
    "## Methods"
   ]
  },
  {
   "cell_type": "code",
   "execution_count": null,
   "id": "929d3968",
   "metadata": {},
   "outputs": [],
   "source": [
    "l = [1, 2, 3, 4]\n",
    "help(l.pop)"
   ]
  },
  {
   "cell_type": "markdown",
   "id": "18cba8e3",
   "metadata": {},
   "source": [
    "## Functions"
   ]
  },
  {
   "cell_type": "markdown",
   "id": "1e400506",
   "metadata": {},
   "source": [
    "- This type of commenting, ''' comment ''', is called a docstring. It is used to describe the purpose of a function and is typically placed at the beginning of the function definition."
   ]
  },
  {
   "cell_type": "code",
   "execution_count": null,
   "id": "7591481b",
   "metadata": {},
   "outputs": [],
   "source": [
    "def hello(name):\n",
    "    '''\n",
    "    This function says hello to the name,\n",
    "    in the range of i\n",
    "    '''\n",
    "    for i in range(3):\n",
    "        print(f\"Hello {name}\")\n",
    "\n",
    "hello('Ali')"
   ]
  },
  {
   "cell_type": "code",
   "execution_count": null,
   "id": "ad469ec9",
   "metadata": {},
   "outputs": [],
   "source": [
    "def chandta_toosh():\n",
    "    s = input()\n",
    "    for i in s:\n",
    "        c =  s.count('c')\n",
    "    print(f\"the number of 'c' character in {s} is: {c}\")\n",
    "\n",
    "chandta_toosh()"
   ]
  },
  {
   "cell_type": "code",
   "execution_count": null,
   "id": "193b78fc",
   "metadata": {},
   "outputs": [],
   "source": [
    "def chandta_toosh(s, char):\n",
    "    '''\n",
    "    gets a string and a character, and returns\n",
    "    the number of that character repeatition in\n",
    "    that string\n",
    "    '''\n",
    "    s = s.lower()\n",
    "    char = char.lower()\n",
    "    counter = 0\n",
    "    for this_character in s:\n",
    "        if this_character == char:\n",
    "            counter += 1\n",
    "    return counter\n",
    "    \n",
    "name = \"Ali Agha\"\n",
    "\n",
    "chandta_toosh(name, 'a')"
   ]
  },
  {
   "cell_type": "code",
   "execution_count": null,
   "id": "fe805dd2",
   "metadata": {},
   "outputs": [],
   "source": [
    "# default n=1 ==> No error will occur\n",
    "def print_times(name, n=1):\n",
    "    '''\n",
    "    Print name, n times\n",
    "    '''\n",
    "    for _ in range(n):\n",
    "        print(name)\n",
    "\n",
    "print_times(\"Ali\", 4)\n",
    "print_times(\"Nima\", 1)\n",
    "print_times(\"Mehrdad\")"
   ]
  },
  {
   "cell_type": "code",
   "execution_count": null,
   "id": "ec08635c",
   "metadata": {},
   "outputs": [],
   "source": [
    "def tavan(n, t=2):\n",
    "    result = 1\n",
    "    for i in range(t):\n",
    "        result *= n\n",
    "    return result\n",
    "\n",
    "tavan(2, 3)\n",
    "tavan(5)"
   ]
  },
  {
   "cell_type": "code",
   "execution_count": null,
   "id": "308e61ec",
   "metadata": {},
   "outputs": [],
   "source": [
    "# Function in function\n",
    "def is_even(n):\n",
    "    return (n % 2 == 0)\n",
    "\n",
    "def number_of_evens(n):\n",
    "    counter = 0\n",
    "    for i in n:\n",
    "        if is_even(i):\n",
    "            counter += 1\n",
    "    return counter\n",
    "\n",
    "result = number_of_evens([1, 2, 3, 4, 5])\n",
    "print(result)\n"
   ]
  },
  {
   "cell_type": "code",
   "execution_count": null,
   "id": "615d9dc6",
   "metadata": {},
   "outputs": [],
   "source": [
    "def any_even_in_list(nums):\n",
    "    '''\n",
    "    returns True if any of the numbers is even\n",
    "    '''\n",
    "    for n in nums:\n",
    "        if is_even(n):\n",
    "            return True\n",
    "    return False\n",
    "\n",
    "any_even_in_list([1, 3])\n"
   ]
  },
  {
   "cell_type": "code",
   "execution_count": null,
   "id": "edfafa0a",
   "metadata": {},
   "outputs": [],
   "source": [
    "def largest(nums):\n",
    "    '''\n",
    "    returns the largest number in of a list\n",
    "    '''\n",
    "    current_num = my_numbers[0]     # current_num is called a palceholder variable.\n",
    "    for num in nums:\n",
    "        if num > current_num:\n",
    "            current_num = num\n",
    "    return current_num \n",
    "\n",
    "my_numbers = [1, 2, 13, 14, 18, 6, 22, 9]\n",
    "show_largest_number = largest(my_numbers)\n",
    "print(show_largest_number)"
   ]
  },
  {
   "cell_type": "code",
   "execution_count": null,
   "id": "e12444be",
   "metadata": {},
   "outputs": [],
   "source": [
    "def is_even(n):\n",
    "    return n%2 == 0\n",
    "\n",
    "def get_odds(nums):\n",
    "    odds = []\n",
    "    for num in nums:\n",
    "        if not is_even(num):\n",
    "            odds.append(num)\n",
    "    return odds\n",
    "\n",
    "my_list = [1, 45, 6, 42, 13, 67, 90]\n",
    "my_odds = get_odds(my_list)\n",
    "print(my_odds)"
   ]
  },
  {
   "cell_type": "code",
   "execution_count": 73,
   "id": "8fe567b5",
   "metadata": {},
   "outputs": [
    {
     "name": "stdout",
     "output_type": "stream",
     "text": [
      "4 | [1, 45, 13, 67]\n"
     ]
    }
   ],
   "source": [
    "# When we want to return more than one thing --> tuple\n",
    "def is_even(n):\n",
    "    return n%2 == 0\n",
    "\n",
    "def get_odds(nums):\n",
    "    odds = []\n",
    "    count = 0\n",
    "\n",
    "    for num in nums:\n",
    "        if not is_even(num):\n",
    "            odds.append(num)\n",
    "            count += 1\n",
    "\n",
    "    return count, odds      # this is a tuple, actually :)\n",
    "\n",
    "my_list = [1, 45, 6, 42, 13, 67, 90]\n",
    "odds_count, my_odds = get_odds(my_list)\n",
    "print(odds_count, my_odds, sep=' | ')\n"
   ]
  },
  {
   "cell_type": "code",
   "execution_count": null,
   "id": "44c5c740",
   "metadata": {},
   "outputs": [],
   "source": [
    "def jam_zarb(n1, n2):\n",
    "    jam = n1 + n2\n",
    "    zarb = n1 * n2\n",
    "    return jam, zarb\n",
    "\n",
    "x, y = jam_zarb(1, 4)\n",
    "print(x)\n",
    "print(y)"
   ]
  },
  {
   "cell_type": "code",
   "execution_count": null,
   "id": "3ff6a5e0",
   "metadata": {},
   "outputs": [],
   "source": [
    "# Returning tuples from functions\n",
    "donations = {\n",
    "    'Sara': 10,\n",
    "    'Joe': 40,\n",
    "    'Adrian': 500,\n",
    "    'Babak': 150\n",
    "}\n",
    "\n",
    "def donation_analysis(don):\n",
    "    total = 0\n",
    "    count = 0\n",
    "    max_person = ''\n",
    "    max_donation = -1\n",
    "\n",
    "    for k, v in don.items():\n",
    "        total += v\n",
    "        count += 1\n",
    "        if v > max_donation:\n",
    "            max_donation = v\n",
    "            max_person = k\n",
    "\n",
    "    avg = total/count\n",
    "\n",
    "    return total, avg, max_person\n",
    "\n",
    "total, avg, max_person = donation_analysis(donations)\n",
    "\n",
    "print(f\"total donations is: {total}\")\n",
    "print(f\"average of donations is: {avg}\")\n",
    "print(f\"person with maximum donation is: {max_person}\")\n"
   ]
  },
  {
   "cell_type": "code",
   "execution_count": null,
   "id": "d33622e5",
   "metadata": {},
   "outputs": [],
   "source": [
    "# Guessing the number game\n",
    "import random\n",
    "\n",
    "\n",
    "def welcome():\n",
    "    print(\"Welcome to the game\")\n",
    "    print(\"I will guess a number between 1 an 100 and\")\n",
    "    print(\"you have to guess it... \")\n",
    "    print()\n",
    "\n",
    "\n",
    "def finish(number, count):\n",
    "    print(\"Good game.\")\n",
    "    print(f\"My number was {number} and you found it in {count} guesses.\")\n",
    "    print()\n",
    "    answer = input(\"Do you want to play again? (Y/N): \")\n",
    "    play_again = True if answer.upper() in [\"Y\", \"YES\", \"ARE\"] else False\n",
    "    return play_again\n",
    "\n",
    "\n",
    "def user_guess():\n",
    "    guess = input(\"What is your guess? \")\n",
    "    return int(guess)\n",
    "\n",
    "\n",
    "def answer(computer, user):\n",
    "    if computer > user:\n",
    "        return \"No! guess a higher number.\"\n",
    "    elif computer < user:\n",
    "        return \"Ohh, your guess went so large!\"\n",
    "    \n",
    "    return \"Woow! You find it. Excellent *_*\"\n",
    "\n",
    "\n",
    "def win(computer_guess, user_guess):\n",
    "    return computer_guess == user_guess\n",
    "\n",
    "\n",
    "welcome()\n",
    "continue_playing = True\n",
    "while(continue_playing):\n",
    "    computer_guess = random.randint(1, 100)\n",
    "    guess = 0       # start with a wrong guess\n",
    "    count = 0\n",
    "\n",
    "    while(not win(computer_guess, guess)):\n",
    "        guess = user_guess()\n",
    "        print(answer(computer_guess, guess))\n",
    "        count += 1\n",
    "\n",
    "    continue_playing = finish(computer_guess, count)\n",
    "    print(\"Bye...\")"
   ]
  },
  {
   "cell_type": "code",
   "execution_count": null,
   "id": "a4812b80",
   "metadata": {},
   "outputs": [],
   "source": [
    "# assignment\n",
    "def hello_world():\n",
    "    print(\"Hello, World!\")\n",
    "\n",
    "\n",
    "hello_world()"
   ]
  },
  {
   "cell_type": "code",
   "execution_count": null,
   "id": "e2fe5a93",
   "metadata": {},
   "outputs": [],
   "source": [
    "# assignment\n",
    "def greet():\n",
    "    name = input()\n",
    "    print(f\"Hello, {name}!\")\n",
    "\n",
    "greet()"
   ]
  },
  {
   "cell_type": "code",
   "execution_count": null,
   "id": "a3b590d8",
   "metadata": {},
   "outputs": [],
   "source": [
    "# assignment\n",
    "def is_positive():\n",
    "    number = int(input())\n",
    "    return True if number >= 0 else False\n",
    "\n",
    "print(is_positive())"
   ]
  },
  {
   "cell_type": "code",
   "execution_count": null,
   "id": "ec66f68d",
   "metadata": {},
   "outputs": [],
   "source": [
    "# assignment\n",
    "def sum_of_squares():\n",
    "    a = int(input())\n",
    "    b = int(input())\n",
    "    return a**2 + b**2\n",
    "\n",
    "print(sum_of_squares())"
   ]
  },
  {
   "cell_type": "code",
   "execution_count": null,
   "id": "4f3fa82d",
   "metadata": {},
   "outputs": [],
   "source": [
    "# assignment\n",
    "def is_even():\n",
    "    number = int(input())\n",
    "    return True if number%2 == 0 else False\n",
    "\n",
    "print(is_even())"
   ]
  },
  {
   "cell_type": "code",
   "execution_count": null,
   "id": "a1bf586a",
   "metadata": {},
   "outputs": [],
   "source": [
    "# assignment\n",
    "def is_greater():\n",
    "    a = int(input())\n",
    "    b = int(input())\n",
    "    return True if a>b else False\n",
    "\n",
    "print(is_greater())"
   ]
  },
  {
   "cell_type": "markdown",
   "id": "2f156500",
   "metadata": {},
   "source": [
    "### args\n",
    "- When a function needs to accept multiple arguments without specifying each one individually, we can use *args. It collects all positional arguments passed to the function into a tuple, allowing us to pass any number of arguments without listing them explicitly in the function definition."
   ]
  },
  {
   "cell_type": "code",
   "execution_count": null,
   "id": "38de23d6",
   "metadata": {},
   "outputs": [],
   "source": [
    "def zarb(*args):\n",
    "    print(args)\n",
    "\n",
    "result = zarb(2, 4, 5, 5)\n",
    "print(result)"
   ]
  },
  {
   "cell_type": "code",
   "execution_count": null,
   "id": "6297859e",
   "metadata": {},
   "outputs": [],
   "source": [
    "def zarb(*args):\n",
    "    res = 1\n",
    "    for i in args:\n",
    "        res *= i\n",
    "        \n",
    "    return res\n",
    "\n",
    "result = zarb(2, 4, 5, 5)\n",
    "print(result)"
   ]
  },
  {
   "cell_type": "markdown",
   "id": "3b861352",
   "metadata": {},
   "source": [
    "### kwargs (key word argumants)\n",
    "- Used when a function needs to accept any number of keyword arguments (i.e., arguments passed as key=value). It does not accept positional arguments. All the keyword arguments are collected into a dictionary and passed to the function as **kwargs."
   ]
  },
  {
   "cell_type": "code",
   "execution_count": 1,
   "id": "d38fc5a8",
   "metadata": {},
   "outputs": [
    {
     "name": "stdout",
     "output_type": "stream",
     "text": [
      "kwargs is: {'length': 3, 'heigth': 5}\n",
      "15\n",
      "kwargs is: {'radial': 10}\n",
      "31.400000000000002\n",
      "kwargs is: {}\n",
      "1000\n"
     ]
    }
   ],
   "source": [
    "def calculate_masahat (**kwargs):\n",
    "    print(f\"kwargs is: {kwargs}\")\n",
    "    if 'length' in kwargs:\n",
    "        return kwargs['length'] * kwargs['heigth']\n",
    "    elif 'radial' in kwargs:\n",
    "        return kwargs['radial'] * 3.14\n",
    "    else:\n",
    "        return 1000\n",
    "    \n",
    "\n",
    "print(calculate_masahat(length=3, heigth=5))\n",
    "print(calculate_masahat(radial=10))\n",
    "print(calculate_masahat())"
   ]
  },
  {
   "cell_type": "code",
   "execution_count": null,
   "id": "37e7ea12",
   "metadata": {},
   "outputs": [],
   "source": [
    "# assignment\n",
    "def sum_numbers(*args):\n",
    "    return sum(args)\n",
    "\n",
    "numbers = input()\n",
    "\n",
    "num_list = []\n",
    "splitted_nums = numbers.split(\" \")\n",
    "for x in splitted_nums:\n",
    "    num_list.append(int(x))\n",
    "\n",
    "print(sum_numbers(*num_list))"
   ]
  },
  {
   "cell_type": "code",
   "execution_count": null,
   "id": "87d9923f",
   "metadata": {},
   "outputs": [],
   "source": [
    "# assignment\n",
    "def pick_evens(*args):\n",
    "    even_list = []\n",
    "    for number in args:\n",
    "        if number%2 == 0:\n",
    "            even_list.append(number)\n",
    "\n",
    "    return even_list\n",
    "\n",
    "\n",
    "numbers = input()\n",
    "\n",
    "num_list = []\n",
    "splitted_nums = numbers.split(\" \")\n",
    "for x in splitted_nums:\n",
    "    num_list.append(int(x))\n",
    "\n",
    "print(pick_evens(*num_list))"
   ]
  },
  {
   "cell_type": "code",
   "execution_count": null,
   "id": "6bf15cdc",
   "metadata": {},
   "outputs": [],
   "source": [
    "# assignment\n",
    "def skyline(*args):\n",
    "    if not args:\n",
    "        return 0\n",
    "    \n",
    "    greaterst_num = args[0]\n",
    "\n",
    "    for i in args:\n",
    "        if i > greaterst_num:\n",
    "            greaterst_num = i\n",
    "    \n",
    "    return greaterst_num\n",
    "\n",
    "\n",
    "num_list = []\n",
    "splitted_numbers = input().split(\" \")\n",
    "for number in splitted_numbers:\n",
    "    if number:\n",
    "        num_list.append(int(number))\n",
    "\n",
    "print(skyline(*num_list))"
   ]
  },
  {
   "cell_type": "markdown",
   "id": "04b0c4dc",
   "metadata": {},
   "source": [
    "### Anonymous Functions | map | filter"
   ]
  },
  {
   "cell_type": "code",
   "execution_count": null,
   "id": "6b19b04e",
   "metadata": {},
   "outputs": [],
   "source": [
    "def tavan_2(x):\n",
    "    return x**2\n",
    "\n",
    "\n",
    "a = [3, 4, 2, 8]\n",
    "\n",
    "tavan = []\n",
    "for i in a:\n",
    "    result = tavan_2(i)\n",
    "    tavan.append(result)\n",
    "\n",
    "print(tavan)"
   ]
  },
  {
   "cell_type": "code",
   "execution_count": null,
   "id": "a598f00b",
   "metadata": {},
   "outputs": [],
   "source": [
    "def tavan_2(x):\n",
    "    return x**2\n",
    "\n",
    "\n",
    "a = [3, 4, 2, 8]\n",
    "\n",
    "for i in range(len(a)):\n",
    "    a[i] = tavan_2(a[i])\n",
    "\n",
    "print(a)"
   ]
  },
  {
   "cell_type": "markdown",
   "id": "643018ef",
   "metadata": {},
   "source": [
    "#### map\n",
    "It runs a function on all the members of a list; Applies a given function to each element of a list (or any iterable), returning a new iterable with the results. The return is an object, it is called LAZY."
   ]
  },
  {
   "cell_type": "code",
   "execution_count": null,
   "id": "af1e1437",
   "metadata": {},
   "outputs": [],
   "source": [
    "def tavan_2(x):\n",
    "    return x**2\n",
    "\n",
    "\n",
    "a = [1, 4, 6, 9]\n",
    "\n",
    "tavan_a = map(tavan_2, a)\n",
    "print(tavan_a)"
   ]
  },
  {
   "cell_type": "code",
   "execution_count": null,
   "id": "96923391",
   "metadata": {},
   "outputs": [],
   "source": [
    "def tavan_2(x):\n",
    "    return x**2\n",
    "\n",
    "\n",
    "a = [1, 4, 6, 9]\n",
    "\n",
    "tavan_a = map(tavan_2, a)\n",
    "\n",
    "for i in tavan_a:\n",
    "    print(i)\n",
    "\n",
    "# Or instead of for loop\n",
    "# print(list(tavan_a))"
   ]
  },
  {
   "cell_type": "markdown",
   "id": "89a6d274",
   "metadata": {},
   "source": [
    "#### Anonymous(lambda) Functions\n",
    "- sign: lambda\n",
    "\n",
    "instead of: \n",
    "```\n",
    "def tavan_2(x):\n",
    "    return x**2\n",
    "```\n",
    "we can say:\n",
    "```lambda x: x**2``` (if you had x, return x power 2)"
   ]
  },
  {
   "cell_type": "code",
   "execution_count": null,
   "id": "7e83158b",
   "metadata": {},
   "outputs": [],
   "source": [
    "a = [1, 4, 6, 9]\n",
    "\n",
    "tavan_a = map(lambda x: x**2, a)\n",
    "\n",
    "for i in tavan_a:\n",
    "    print(i)"
   ]
  },
  {
   "cell_type": "markdown",
   "id": "335594ec",
   "metadata": {},
   "source": [
    "#### filter\n",
    "It filter the members of a list and eliminate some of them; Applies a function to each element of a list and returns an iterable containing only the elements for which the function returns True."
   ]
  },
  {
   "cell_type": "code",
   "execution_count": 66,
   "id": "9f38e3d5",
   "metadata": {},
   "outputs": [
    {
     "data": {
      "text/plain": [
       "<filter at 0x20c29708f40>"
      ]
     },
     "execution_count": 66,
     "metadata": {},
     "output_type": "execute_result"
    }
   ],
   "source": [
    "def is_ashari(x):\n",
    "    if x == int(x):      # type casting\n",
    "        return False\n",
    "    else:\n",
    "        return True\n",
    "    \n",
    "\n",
    "a = [1, 4.123, 12, 41.5, 121, 24, 54.32, 12.97]\n",
    "\n",
    "filter(is_ashari, a)"
   ]
  },
  {
   "cell_type": "code",
   "execution_count": null,
   "id": "87fc3299",
   "metadata": {},
   "outputs": [
    {
     "data": {
      "text/plain": [
       "[4.123, 41.5, 54.32, 12.97]"
      ]
     },
     "execution_count": 67,
     "metadata": {},
     "output_type": "execute_result"
    }
   ],
   "source": [
    "def is_ashari(x):\n",
    "    if x == int(x):      # type casting\n",
    "        return False\n",
    "    else:\n",
    "        return True\n",
    "    \n",
    "\n",
    "a = [1, 4.123, 12, 41.5, 121, 24, 54.32, 12.97]\n",
    "\n",
    "list(filter(is_ashari, a))"
   ]
  },
  {
   "cell_type": "code",
   "execution_count": null,
   "id": "f0e5ea14",
   "metadata": {},
   "outputs": [
    {
     "data": {
      "text/plain": [
       "[4.123, 41.5, 54.32, 12.97]"
      ]
     },
     "execution_count": 68,
     "metadata": {},
     "output_type": "execute_result"
    }
   ],
   "source": [
    "def is_ashari(x):\n",
    "    return not x == int(x)      # type casting\n",
    "    \n",
    "\n",
    "a = [1, 4.123, 12, 41.5, 121, 24, 54.32, 12.97]\n",
    "\n",
    "list(filter(is_ashari, a))"
   ]
  },
  {
   "cell_type": "code",
   "execution_count": 71,
   "id": "6ae48674",
   "metadata": {},
   "outputs": [
    {
     "data": {
      "text/plain": [
       "[4.123, 41.5, 54.32, 12.97]"
      ]
     },
     "execution_count": 71,
     "metadata": {},
     "output_type": "execute_result"
    }
   ],
   "source": [
    "a = [1, 4.123, 12, 41.5, 121, 24, 54.32, 12.97]\n",
    "\n",
    "list(filter(lambda x: x != int(x) , a))"
   ]
  },
  {
   "cell_type": "code",
   "execution_count": 72,
   "id": "2f7e6a62",
   "metadata": {},
   "outputs": [
    {
     "name": "stdout",
     "output_type": "stream",
     "text": [
      "Ali\n",
      "Ana\n",
      "jack\n"
     ]
    }
   ],
   "source": [
    "names = ['Ali', 'Fatemeh', 'Clara', 'Ana', 'jack']\n",
    "\n",
    "short_names = filter(lambda s: len(s)<=4, names)\n",
    "\n",
    "for name in short_names:\n",
    "    print(name)"
   ]
  },
  {
   "cell_type": "markdown",
   "id": "ebb49956",
   "metadata": {},
   "source": [
    "### Scope of Variables\n",
    "- LEGB: Order (scope) of variables:\n",
    "1. Local\n",
    "2. Enclosing Function Local\n",
    "3. Global\n",
    "4. Build-in "
   ]
  },
  {
   "cell_type": "code",
   "execution_count": null,
   "id": "e7d8e996",
   "metadata": {},
   "outputs": [
    {
     "name": "stdout",
     "output_type": "stream",
     "text": [
      "Maryam\n",
      "in function name is Benjamin\n",
      "Maryam\n"
     ]
    }
   ],
   "source": [
    "def hello():\n",
    "    name = \"Benjamin\"       # Enclosing Function Local\n",
    "    print(f\"in function name is {name}\")\n",
    "\n",
    "\n",
    "name = 'Maryam'         # Global\n",
    "print(name)\n",
    "hello()\n",
    "print(name)"
   ]
  },
  {
   "cell_type": "code",
   "execution_count": 79,
   "id": "1dff862d",
   "metadata": {},
   "outputs": [
    {
     "name": "stdout",
     "output_type": "stream",
     "text": [
      "Maryam\n",
      "in function name is Benjamin\n",
      "Benjamin\n"
     ]
    }
   ],
   "source": [
    "def hello():\n",
    "    global name         # we says that we are going to change\n",
    "                            # global variable \n",
    "    name = \"Benjamin\"      \n",
    "    print(f\"in function name is {name}\")\n",
    "\n",
    "\n",
    "name = 'Maryam'\n",
    "print(name)\n",
    "hello()\n",
    "print(name)"
   ]
  }
 ],
 "metadata": {
  "kernelspec": {
   "display_name": "test_env",
   "language": "python",
   "name": "python3"
  },
  "language_info": {
   "codemirror_mode": {
    "name": "ipython",
    "version": 3
   },
   "file_extension": ".py",
   "mimetype": "text/x-python",
   "name": "python",
   "nbconvert_exporter": "python",
   "pygments_lexer": "ipython3",
   "version": "3.12.9"
  }
 },
 "nbformat": 4,
 "nbformat_minor": 5
}
